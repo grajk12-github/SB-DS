{
 "cells": [
  {
   "cell_type": "markdown",
   "metadata": {},
   "source": [
    "# Capstone Project 1 - Dataset: San Francisco Police Department Incident data from Jan 1st 2015\n",
    "\n",
    "Column Name\tColumn Type\tDescription\n",
    "\n",
    "IncidntNum\tInt64\tincident number\n",
    "\n",
    "Category\tObject/string\tincident category\n",
    "\n",
    "Descript\tObject/string\tIncident description\n",
    "\n",
    "DayOfWeek\tObject/string\tIncident day of the week\n",
    "\n",
    "Date\t    Object/date\t    Incident date\n",
    "\n",
    "Time\t    Object/string\tIncident time\n",
    "\n",
    "PdDistrict\tObject/string\tIncident PD district\n",
    "\n",
    "Resolution\tObject/string\tIncident resolution\n",
    "\n",
    "Address\t    Object/string\tIncident address\n",
    "\n",
    "X\t        Float64\t        Incident  Latitude\n",
    "\n",
    "Y\t        Float64\t        Incident Longitude\n",
    "\n",
    "Location\tobject\t        Incident location\n",
    "\n",
    "\n",
    "PdId\t    Int64\t        PD identification number\n"
   ]
  },
  {
   "cell_type": "markdown",
   "metadata": {},
   "source": [
    "# Project Basic Objectives set on April 15th 2017\n",
    "1.\tWhat are the top 3 locations for the incidents \n",
    "2.\tWhat are the top 3 districts  for the incidents \n",
    "3.\tWhat are the unique category types\n",
    "4.\tCan we define sub categories from the descript column\n",
    "5.\tSplit the date into year, month - to plot the above with every over year, month over moth comparison\n",
    "6.\tPlot incident category type on day of the week and summarize the findings, do the same for month and year\n",
    "7.\tCreate the heat map day of the week vs hours/month/year for each month/year\n",
    "\n"
   ]
  },
  {
   "cell_type": "code",
   "execution_count": 1,
   "metadata": {
    "collapsed": true
   },
   "outputs": [],
   "source": [
    "import numpy as np\n",
    "import pandas as pd\n",
    "import matplotlib.pyplot as plt\n",
    "import seaborn as sns\n",
    "sns.set_style('whitegrid')\n",
    "%matplotlib inline"
   ]
  },
  {
   "cell_type": "code",
   "execution_count": 2,
   "metadata": {
    "collapsed": true
   },
   "outputs": [],
   "source": [
    "# load the data and covert the Date string into datetime format and data is from Jan 01 2015\n",
    "# load time was about 5 minutes\n",
    "df = pd.read_csv('SFPD_IncidentsFrom20150101.csv',parse_dates=['Date'])"
   ]
  },
  {
   "cell_type": "code",
   "execution_count": 3,
   "metadata": {
    "collapsed": false
   },
   "outputs": [
    {
     "name": "stdout",
     "output_type": "stream",
     "text": [
      "<class 'pandas.core.frame.DataFrame'>\n",
      "RangeIndex: 345295 entries, 0 to 345294\n",
      "Data columns (total 13 columns):\n",
      "IncidntNum    345295 non-null int64\n",
      "Category      345295 non-null object\n",
      "Descript      345295 non-null object\n",
      "DayOfWeek     345295 non-null object\n",
      "Date          345295 non-null datetime64[ns]\n",
      "Time          345295 non-null object\n",
      "PdDistrict    345294 non-null object\n",
      "Resolution    345295 non-null object\n",
      "Address       345295 non-null object\n",
      "X             345295 non-null float64\n",
      "Y             345295 non-null float64\n",
      "Location      345295 non-null object\n",
      "PdId          345295 non-null int64\n",
      "dtypes: datetime64[ns](1), float64(2), int64(2), object(8)\n",
      "memory usage: 34.2+ MB\n"
     ]
    }
   ],
   "source": [
    "df.info()"
   ]
  },
  {
   "cell_type": "code",
   "execution_count": 4,
   "metadata": {
    "collapsed": true
   },
   "outputs": [],
   "source": [
    "# create Year, Month column using Date column to plot the graph using Year and Month\n",
    "df['Year'] = df['Date'].apply(lambda dt: dt.year) # lambda function retunrns Year integer for each row\n",
    "df['Month'] = df['Date'].apply(lambda dt: dt.strftime('%B')) # Lambda fuction returns the Month string for each row"
   ]
  },
  {
   "cell_type": "code",
   "execution_count": 5,
   "metadata": {
    "collapsed": true
   },
   "outputs": [],
   "source": [
    "# create Hour column suing Time column to bucket the incidents into 24 different slots for each day\n",
    "df['Hour'] = df['Time'].apply(lambda tm: int(tm.split(':')[0]))"
   ]
  },
  {
   "cell_type": "code",
   "execution_count": 6,
   "metadata": {
    "collapsed": false
   },
   "outputs": [
    {
     "name": "stdout",
     "output_type": "stream",
     "text": [
      "<class 'pandas.core.frame.DataFrame'>\n",
      "RangeIndex: 345295 entries, 0 to 345294\n",
      "Data columns (total 16 columns):\n",
      "IncidntNum    345295 non-null int64\n",
      "Category      345295 non-null object\n",
      "Descript      345295 non-null object\n",
      "DayOfWeek     345295 non-null object\n",
      "Date          345295 non-null datetime64[ns]\n",
      "Time          345295 non-null object\n",
      "PdDistrict    345294 non-null object\n",
      "Resolution    345295 non-null object\n",
      "Address       345295 non-null object\n",
      "X             345295 non-null float64\n",
      "Y             345295 non-null float64\n",
      "Location      345295 non-null object\n",
      "PdId          345295 non-null int64\n",
      "Year          345295 non-null int64\n",
      "Month         345295 non-null object\n",
      "Hour          345295 non-null int64\n",
      "dtypes: datetime64[ns](1), float64(2), int64(4), object(9)\n",
      "memory usage: 42.2+ MB\n"
     ]
    }
   ],
   "source": [
    "df.info()"
   ]
  },
  {
   "cell_type": "code",
   "execution_count": 7,
   "metadata": {
    "collapsed": false
   },
   "outputs": [
    {
     "data": {
      "text/plain": [
       "<matplotlib.axes._subplots.AxesSubplot at 0x1960a512208>"
      ]
     },
     "execution_count": 7,
     "metadata": {},
     "output_type": "execute_result"
    },
    {
     "data": {
      "image/png": "[encoded data removed]",
      "text/plain": [
       "<matplotlib.figure.Figure at 0x1960a512240>"
      ]
     },
     "metadata": {},
     "output_type": "display_data"
    }
   ],
   "source": [
    "#Simple count graph on category to check on the highest incidents \n",
    "plt.figure(figsize=(18,6))\n",
    "plt.xticks(rotation=90)\n",
    "sns.countplot(x='Category',data=df)"
   ]
  },
  {
   "cell_type": "code",
   "execution_count": 8,
   "metadata": {
    "collapsed": false
   },
   "outputs": [
    {
     "data": {
      "text/plain": [
       "<matplotlib.axes._subplots.AxesSubplot at 0x1960a040eb8>"
      ]
     },
     "execution_count": 8,
     "metadata": {},
     "output_type": "execute_result"
    },
    {
     "data": {
      "image/png": "[encoded data removed]",
      "text/plain": [
       "<matplotlib.figure.Figure at 0x1960a040ef0>"
      ]
     },
     "metadata": {},
     "output_type": "display_data"
    }
   ],
   "source": [
    "#Simple count graph on Police Department D District to check on the highest incidents \n",
    "plt.figure(figsize=(18,6))\n",
    "plt.xticks(rotation=30)\n",
    "sns.countplot(x='PdDistrict',data=df)"
   ]
  },
  {
   "cell_type": "code",
   "execution_count": 9,
   "metadata": {
    "collapsed": false
   },
   "outputs": [
    {
     "data": {
      "text/html": [
       "<div>\n",
       "<table border=\"1\" class=\"dataframe\">\n",
       "  <thead>\n",
       "    <tr style=\"text-align: right;\">\n",
       "      <th>Hour</th>\n",
       "      <th>0</th>\n",
       "      <th>1</th>\n",
       "      <th>2</th>\n",
       "      <th>3</th>\n",
       "      <th>4</th>\n",
       "      <th>5</th>\n",
       "      <th>6</th>\n",
       "      <th>7</th>\n",
       "      <th>8</th>\n",
       "      <th>9</th>\n",
       "      <th>...</th>\n",
       "      <th>14</th>\n",
       "      <th>15</th>\n",
       "      <th>16</th>\n",
       "      <th>17</th>\n",
       "      <th>18</th>\n",
       "      <th>19</th>\n",
       "      <th>20</th>\n",
       "      <th>21</th>\n",
       "      <th>22</th>\n",
       "      <th>23</th>\n",
       "    </tr>\n",
       "    <tr>\n",
       "      <th>DayOfWeek</th>\n",
       "      <th></th>\n",
       "      <th></th>\n",
       "      <th></th>\n",
       "      <th></th>\n",
       "      <th></th>\n",
       "      <th></th>\n",
       "      <th></th>\n",
       "      <th></th>\n",
       "      <th></th>\n",
       "      <th></th>\n",
       "      <th></th>\n",
       "      <th></th>\n",
       "      <th></th>\n",
       "      <th></th>\n",
       "      <th></th>\n",
       "      <th></th>\n",
       "      <th></th>\n",
       "      <th></th>\n",
       "      <th></th>\n",
       "      <th></th>\n",
       "      <th></th>\n",
       "    </tr>\n",
       "  </thead>\n",
       "  <tbody>\n",
       "    <tr>\n",
       "      <th>Friday</th>\n",
       "      <td>2443</td>\n",
       "      <td>1430</td>\n",
       "      <td>1084</td>\n",
       "      <td>719</td>\n",
       "      <td>580</td>\n",
       "      <td>569</td>\n",
       "      <td>826</td>\n",
       "      <td>1389</td>\n",
       "      <td>1890</td>\n",
       "      <td>2017</td>\n",
       "      <td>...</td>\n",
       "      <td>2454</td>\n",
       "      <td>2866</td>\n",
       "      <td>2965</td>\n",
       "      <td>3283</td>\n",
       "      <td>3518</td>\n",
       "      <td>3218</td>\n",
       "      <td>3027</td>\n",
       "      <td>2894</td>\n",
       "      <td>2774</td>\n",
       "      <td>2895</td>\n",
       "    </tr>\n",
       "    <tr>\n",
       "      <th>Monday</th>\n",
       "      <td>2199</td>\n",
       "      <td>1145</td>\n",
       "      <td>1045</td>\n",
       "      <td>753</td>\n",
       "      <td>607</td>\n",
       "      <td>598</td>\n",
       "      <td>897</td>\n",
       "      <td>1275</td>\n",
       "      <td>1906</td>\n",
       "      <td>2020</td>\n",
       "      <td>...</td>\n",
       "      <td>2431</td>\n",
       "      <td>2645</td>\n",
       "      <td>2761</td>\n",
       "      <td>3061</td>\n",
       "      <td>3415</td>\n",
       "      <td>2884</td>\n",
       "      <td>2739</td>\n",
       "      <td>2292</td>\n",
       "      <td>2155</td>\n",
       "      <td>1785</td>\n",
       "    </tr>\n",
       "    <tr>\n",
       "      <th>Saturday</th>\n",
       "      <td>2703</td>\n",
       "      <td>1948</td>\n",
       "      <td>1557</td>\n",
       "      <td>1066</td>\n",
       "      <td>690</td>\n",
       "      <td>610</td>\n",
       "      <td>670</td>\n",
       "      <td>999</td>\n",
       "      <td>1426</td>\n",
       "      <td>1752</td>\n",
       "      <td>...</td>\n",
       "      <td>2407</td>\n",
       "      <td>2584</td>\n",
       "      <td>2671</td>\n",
       "      <td>2848</td>\n",
       "      <td>3135</td>\n",
       "      <td>2888</td>\n",
       "      <td>2771</td>\n",
       "      <td>2688</td>\n",
       "      <td>2797</td>\n",
       "      <td>2955</td>\n",
       "    </tr>\n",
       "    <tr>\n",
       "      <th>Sunday</th>\n",
       "      <td>2825</td>\n",
       "      <td>2110</td>\n",
       "      <td>1702</td>\n",
       "      <td>1093</td>\n",
       "      <td>672</td>\n",
       "      <td>530</td>\n",
       "      <td>653</td>\n",
       "      <td>918</td>\n",
       "      <td>1297</td>\n",
       "      <td>1514</td>\n",
       "      <td>...</td>\n",
       "      <td>2269</td>\n",
       "      <td>2697</td>\n",
       "      <td>2645</td>\n",
       "      <td>2886</td>\n",
       "      <td>2692</td>\n",
       "      <td>2655</td>\n",
       "      <td>2393</td>\n",
       "      <td>2228</td>\n",
       "      <td>2214</td>\n",
       "      <td>1845</td>\n",
       "    </tr>\n",
       "    <tr>\n",
       "      <th>Thursday</th>\n",
       "      <td>2217</td>\n",
       "      <td>1156</td>\n",
       "      <td>952</td>\n",
       "      <td>755</td>\n",
       "      <td>630</td>\n",
       "      <td>523</td>\n",
       "      <td>768</td>\n",
       "      <td>1324</td>\n",
       "      <td>1920</td>\n",
       "      <td>2015</td>\n",
       "      <td>...</td>\n",
       "      <td>2519</td>\n",
       "      <td>2556</td>\n",
       "      <td>2800</td>\n",
       "      <td>3143</td>\n",
       "      <td>3396</td>\n",
       "      <td>3178</td>\n",
       "      <td>2674</td>\n",
       "      <td>2429</td>\n",
       "      <td>2391</td>\n",
       "      <td>2059</td>\n",
       "    </tr>\n",
       "  </tbody>\n",
       "</table>\n",
       "<p>5 rows × 24 columns</p>\n",
       "</div>"
      ],
      "text/plain": [
       "Hour         0     1     2     3    4    5    6     7     8     9   ...   \\\n",
       "DayOfWeek                                                           ...    \n",
       "Friday     2443  1430  1084   719  580  569  826  1389  1890  2017  ...    \n",
       "Monday     2199  1145  1045   753  607  598  897  1275  1906  2020  ...    \n",
       "Saturday   2703  1948  1557  1066  690  610  670   999  1426  1752  ...    \n",
       "Sunday     2825  2110  1702  1093  672  530  653   918  1297  1514  ...    \n",
       "Thursday   2217  1156   952   755  630  523  768  1324  1920  2015  ...    \n",
       "\n",
       "Hour         14    15    16    17    18    19    20    21    22    23  \n",
       "DayOfWeek                                                              \n",
       "Friday     2454  2866  2965  3283  3518  3218  3027  2894  2774  2895  \n",
       "Monday     2431  2645  2761  3061  3415  2884  2739  2292  2155  1785  \n",
       "Saturday   2407  2584  2671  2848  3135  2888  2771  2688  2797  2955  \n",
       "Sunday     2269  2697  2645  2886  2692  2655  2393  2228  2214  1845  \n",
       "Thursday   2519  2556  2800  3143  3396  3178  2674  2429  2391  2059  \n",
       "\n",
       "[5 rows x 24 columns]"
      ]
     },
     "execution_count": 9,
     "metadata": {},
     "output_type": "execute_result"
    }
   ],
   "source": [
    "# Build the dataframe with day of the week and hours\n",
    "dayHour = df.groupby(by=['DayOfWeek','Hour']).count()['Category'].unstack()\n",
    "dayHour.head()"
   ]
  },
  {
   "cell_type": "code",
   "execution_count": 10,
   "metadata": {
    "collapsed": false
   },
   "outputs": [
    {
     "data": {
      "text/plain": [
       "<matplotlib.axes._subplots.AxesSubplot at 0x1960ad2be80>"
      ]
     },
     "execution_count": 10,
     "metadata": {},
     "output_type": "execute_result"
    },
    {
     "data": {
      "image/png": "[encoded data removed]",
      "text/plain": [
       "<matplotlib.figure.Figure at 0x1960ad04fd0>"
      ]
     },
     "metadata": {},
     "output_type": "display_data"
    }
   ],
   "source": [
    "#plot the heat map\n",
    "plt.figure(figsize=(12,6))\n",
    "plt.yticks(rotation=180)\n",
    "sns.heatmap(dayHour)\n",
    "#most of the incidents happens on 12th, 17th,19th hours(evening) and very less incidents from 2am to 6am"
   ]
  },
  {
   "cell_type": "code",
   "execution_count": 11,
   "metadata": {
    "collapsed": false
   },
   "outputs": [
    {
     "data": {
      "text/html": [
       "<div>\n",
       "<table border=\"1\" class=\"dataframe\">\n",
       "  <thead>\n",
       "    <tr style=\"text-align: right;\">\n",
       "      <th>Month</th>\n",
       "      <th>April</th>\n",
       "      <th>August</th>\n",
       "      <th>December</th>\n",
       "      <th>February</th>\n",
       "      <th>January</th>\n",
       "      <th>July</th>\n",
       "      <th>June</th>\n",
       "      <th>March</th>\n",
       "      <th>May</th>\n",
       "      <th>November</th>\n",
       "      <th>October</th>\n",
       "      <th>September</th>\n",
       "    </tr>\n",
       "    <tr>\n",
       "      <th>DayOfWeek</th>\n",
       "      <th></th>\n",
       "      <th></th>\n",
       "      <th></th>\n",
       "      <th></th>\n",
       "      <th></th>\n",
       "      <th></th>\n",
       "      <th></th>\n",
       "      <th></th>\n",
       "      <th></th>\n",
       "      <th></th>\n",
       "      <th></th>\n",
       "      <th></th>\n",
       "    </tr>\n",
       "  </thead>\n",
       "  <tbody>\n",
       "    <tr>\n",
       "      <th>Friday</th>\n",
       "      <td>4079</td>\n",
       "      <td>3698</td>\n",
       "      <td>3561</td>\n",
       "      <td>5342</td>\n",
       "      <td>6453</td>\n",
       "      <td>4384</td>\n",
       "      <td>3561</td>\n",
       "      <td>5949</td>\n",
       "      <td>4202</td>\n",
       "      <td>3577</td>\n",
       "      <td>4049</td>\n",
       "      <td>4071</td>\n",
       "    </tr>\n",
       "    <tr>\n",
       "      <th>Monday</th>\n",
       "      <td>3678</td>\n",
       "      <td>4162</td>\n",
       "      <td>3014</td>\n",
       "      <td>5557</td>\n",
       "      <td>5261</td>\n",
       "      <td>3234</td>\n",
       "      <td>3672</td>\n",
       "      <td>5386</td>\n",
       "      <td>3718</td>\n",
       "      <td>3499</td>\n",
       "      <td>3821</td>\n",
       "      <td>3132</td>\n",
       "    </tr>\n",
       "    <tr>\n",
       "      <th>Saturday</th>\n",
       "      <td>4243</td>\n",
       "      <td>3933</td>\n",
       "      <td>3445</td>\n",
       "      <td>5284</td>\n",
       "      <td>6145</td>\n",
       "      <td>3791</td>\n",
       "      <td>3505</td>\n",
       "      <td>5078</td>\n",
       "      <td>3916</td>\n",
       "      <td>3327</td>\n",
       "      <td>4457</td>\n",
       "      <td>3546</td>\n",
       "    </tr>\n",
       "    <tr>\n",
       "      <th>Sunday</th>\n",
       "      <td>3476</td>\n",
       "      <td>3617</td>\n",
       "      <td>2815</td>\n",
       "      <td>4912</td>\n",
       "      <td>5389</td>\n",
       "      <td>3557</td>\n",
       "      <td>3425</td>\n",
       "      <td>5191</td>\n",
       "      <td>4124</td>\n",
       "      <td>3630</td>\n",
       "      <td>3567</td>\n",
       "      <td>3244</td>\n",
       "    </tr>\n",
       "    <tr>\n",
       "      <th>Thursday</th>\n",
       "      <td>3778</td>\n",
       "      <td>3369</td>\n",
       "      <td>4117</td>\n",
       "      <td>4989</td>\n",
       "      <td>5606</td>\n",
       "      <td>3580</td>\n",
       "      <td>3643</td>\n",
       "      <td>5729</td>\n",
       "      <td>3465</td>\n",
       "      <td>3146</td>\n",
       "      <td>3907</td>\n",
       "      <td>3811</td>\n",
       "    </tr>\n",
       "  </tbody>\n",
       "</table>\n",
       "</div>"
      ],
      "text/plain": [
       "Month      April  August  December  February  January  July  June  March  \\\n",
       "DayOfWeek                                                                  \n",
       "Friday      4079    3698      3561      5342     6453  4384  3561   5949   \n",
       "Monday      3678    4162      3014      5557     5261  3234  3672   5386   \n",
       "Saturday    4243    3933      3445      5284     6145  3791  3505   5078   \n",
       "Sunday      3476    3617      2815      4912     5389  3557  3425   5191   \n",
       "Thursday    3778    3369      4117      4989     5606  3580  3643   5729   \n",
       "\n",
       "Month       May  November  October  September  \n",
       "DayOfWeek                                      \n",
       "Friday     4202      3577     4049       4071  \n",
       "Monday     3718      3499     3821       3132  \n",
       "Saturday   3916      3327     4457       3546  \n",
       "Sunday     4124      3630     3567       3244  \n",
       "Thursday   3465      3146     3907       3811  "
      ]
     },
     "execution_count": 11,
     "metadata": {},
     "output_type": "execute_result"
    }
   ],
   "source": [
    "# Build the dataframe with day of the week and Month\n",
    "dayMonth = df.groupby(by=['DayOfWeek','Month']).count()['Category'].unstack()\n",
    "dayMonth.head()"
   ]
  },
  {
   "cell_type": "code",
   "execution_count": 12,
   "metadata": {
    "collapsed": false
   },
   "outputs": [
    {
     "data": {
      "text/plain": [
       "<matplotlib.axes._subplots.AxesSubplot at 0x1960bef20f0>"
      ]
     },
     "execution_count": 12,
     "metadata": {},
     "output_type": "execute_result"
    },
    {
     "data": {
      "image/png": "[encoded data removed]",
      "text/plain": [
       "<matplotlib.figure.Figure at 0x1960bf3d0f0>"
      ]
     },
     "metadata": {},
     "output_type": "display_data"
    }
   ],
   "source": [
    "#plot the heat map\n",
    "plt.figure(figsize=(12,6))\n",
    "sns.heatmap(dayMonth)\n",
    "# Jan, Feb & March had high number of incidents"
   ]
  },
  {
   "cell_type": "code",
   "execution_count": 13,
   "metadata": {
    "collapsed": false
   },
   "outputs": [
    {
     "data": {
      "text/html": [
       "<div>\n",
       "<table border=\"1\" class=\"dataframe\">\n",
       "  <thead>\n",
       "    <tr style=\"text-align: right;\">\n",
       "      <th>Year</th>\n",
       "      <th>2015</th>\n",
       "      <th>2016</th>\n",
       "      <th>2017</th>\n",
       "    </tr>\n",
       "    <tr>\n",
       "      <th>DayOfWeek</th>\n",
       "      <th></th>\n",
       "      <th></th>\n",
       "      <th></th>\n",
       "    </tr>\n",
       "  </thead>\n",
       "  <tbody>\n",
       "    <tr>\n",
       "      <th>Friday</th>\n",
       "      <td>23838</td>\n",
       "      <td>23310</td>\n",
       "      <td>5778</td>\n",
       "    </tr>\n",
       "    <tr>\n",
       "      <th>Monday</th>\n",
       "      <td>21766</td>\n",
       "      <td>20728</td>\n",
       "      <td>5640</td>\n",
       "    </tr>\n",
       "    <tr>\n",
       "      <th>Saturday</th>\n",
       "      <td>22902</td>\n",
       "      <td>22131</td>\n",
       "      <td>5637</td>\n",
       "    </tr>\n",
       "    <tr>\n",
       "      <th>Sunday</th>\n",
       "      <td>21309</td>\n",
       "      <td>20158</td>\n",
       "      <td>5480</td>\n",
       "    </tr>\n",
       "    <tr>\n",
       "      <th>Thursday</th>\n",
       "      <td>22459</td>\n",
       "      <td>21329</td>\n",
       "      <td>5352</td>\n",
       "    </tr>\n",
       "  </tbody>\n",
       "</table>\n",
       "</div>"
      ],
      "text/plain": [
       "Year        2015   2016  2017\n",
       "DayOfWeek                    \n",
       "Friday     23838  23310  5778\n",
       "Monday     21766  20728  5640\n",
       "Saturday   22902  22131  5637\n",
       "Sunday     21309  20158  5480\n",
       "Thursday   22459  21329  5352"
      ]
     },
     "execution_count": 13,
     "metadata": {},
     "output_type": "execute_result"
    }
   ],
   "source": [
    "# Build the dataframe with day of the week and Year\n",
    "dayYear = df.groupby(by=['DayOfWeek','Year']).count()['Category'].unstack()\n",
    "dayYear.head()"
   ]
  },
  {
   "cell_type": "code",
   "execution_count": 14,
   "metadata": {
    "collapsed": false
   },
   "outputs": [
    {
     "data": {
      "text/plain": [
       "<matplotlib.axes._subplots.AxesSubplot at 0x1960bf3d9e8>"
      ]
     },
     "execution_count": 14,
     "metadata": {},
     "output_type": "execute_result"
    },
    {
     "data": {
      "image/png": "[encoded data removed]",
      "text/plain": [
       "<matplotlib.figure.Figure at 0x1960bae6cc0>"
      ]
     },
     "metadata": {},
     "output_type": "display_data"
    }
   ],
   "source": [
    "#build the headmap\n",
    "sns.heatmap(dayYear)"
   ]
  },
  {
   "cell_type": "code",
   "execution_count": null,
   "metadata": {
    "collapsed": true
   },
   "outputs": [],
   "source": []
  }
 ],
 "metadata": {
  "kernelspec": {
   "display_name": "Python 3",
   "language": "python",
   "name": "python3"
  },
  "language_info": {
   "codemirror_mode": {
    "name": "ipython",
    "version": 3
   },
   "file_extension": ".py",
   "mimetype": "text/x-python",
   "name": "python",
   "nbconvert_exporter": "python",
   "pygments_lexer": "ipython3",
   "version": "3.5.3"
  }
 },
 "nbformat": 4,
 "nbformat_minor": 2
}
